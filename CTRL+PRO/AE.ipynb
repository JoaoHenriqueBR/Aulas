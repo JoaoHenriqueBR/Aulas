{
 "cells": [
  {
   "cell_type": "markdown",
   "id": "1bede81b",
   "metadata": {},
   "source": [
    "## Criptografia em Python\n",
    "\n",
    "### Variáveis\n",
    "\n",
    "Nas variáveis se guarda o que queremos que nosso computador lembre-se ou altere, nesse caso eu quero que meu computador se lembre do:\n",
    "\n",
    "- Alfabeto escrito em letras minusculas;\n",
    "- O mesmo alfabeto, transformado em letras maiusculas usando o método .upper()."
   ]
  },
  {
   "cell_type": "code",
   "execution_count": 21,
   "id": "84aa4796",
   "metadata": {},
   "outputs": [],
   "source": [
    "minuscula = 'abcdefghijklmnopqrstuvwxyz'\n",
    "maiuscula = minuscula.upper()\n"
   ]
  },
  {
   "cell_type": "markdown",
   "id": "4b5e2fed",
   "metadata": {},
   "source": [
    "### Cifra de César\n",
    "\n",
    "É um tipo de cifra de substituição na qual cada letra do texto é substituída por outra, que se apresenta no alfabeto abaixo dela um número fixo de vezes.\n",
    "\n",
    "### Função para rotação de letra\n",
    "\n",
    "Para representar a letra do outro alfabeto, será retornado a letra voltando 13 posições, por exemplo: o -> b, n -> a, m -> z."
   ]
  },
  {
   "cell_type": "code",
   "execution_count": 22,
   "id": "1ea983e4",
   "metadata": {},
   "outputs": [],
   "source": [
    "def rotaciona(letter, all):\n",
    "    pos = all.find(letter)\n",
    "    return all[pos-13]"
   ]
  },
  {
   "cell_type": "markdown",
   "id": "ba23ba34",
   "metadata": {},
   "source": [
    "### Função para verificar tamanho da letra\n",
    "\n",
    "Dependendo do tamanho da letra, será decidido se usará as variáveis minuscula (Para o alfabeto em minusculo) ou maiuscula (Para o mesmo em maiuscula).\n",
    "\n",
    "> Else: Caracteres especiais permanecerão o mesmo."
   ]
  },
  {
   "cell_type": "code",
   "execution_count": 23,
   "id": "527d6a3f",
   "metadata": {},
   "outputs": [],
   "source": [
    "def rot_letra(letter):\n",
    "    if letter in minuscula:\n",
    "        return rotaciona(letter, minuscula)\n",
    "    elif letter in maiuscula:\n",
    "        return rotaciona(letter, maiuscula)\n",
    "    else:\n",
    "        return letter"
   ]
  },
  {
   "cell_type": "markdown",
   "id": "2aa20e4c",
   "metadata": {},
   "source": [
    "### Função de criptografia\n",
    "\n",
    "Usando um laço de repetição, será repetido cada letra da frase digitada, e por cada letra será codificada segundo a função anterior."
   ]
  },
  {
   "cell_type": "code",
   "execution_count": 24,
   "id": "e4af3375",
   "metadata": {},
   "outputs": [],
   "source": [
    "def rot_texto(texto_cript):\n",
    "    return \"\".join([rot_letra(letter) for letter in texto_cript])"
   ]
  },
  {
   "cell_type": "markdown",
   "id": "50683914",
   "metadata": {},
   "source": [
    "#### Mensagem criptografada"
   ]
  },
  {
   "cell_type": "code",
   "execution_count": 25,
   "id": "618d357f",
   "metadata": {},
   "outputs": [
    {
     "name": "stdout",
     "output_type": "stream",
     "text": [
      "Bv, zrh abzr é Wbãb!\n"
     ]
    }
   ],
   "source": [
    "print(rot_texto(\"Oi, meu nome é João!\"))"
   ]
  },
  {
   "cell_type": "markdown",
   "id": "3726202b",
   "metadata": {},
   "source": [
    "#### Mensagem descriptografada"
   ]
  },
  {
   "cell_type": "code",
   "execution_count": 27,
   "id": "3e191301",
   "metadata": {},
   "outputs": [
    {
     "name": "stdout",
     "output_type": "stream",
     "text": [
      "Oi, meu nome é João!\n"
     ]
    }
   ],
   "source": [
    "print(rot_texto(\"Bv, zrh abzr é Wbãb!\"))"
   ]
  }
 ],
 "metadata": {
  "kernelspec": {
   "display_name": ".venv",
   "language": "python",
   "name": "python3"
  },
  "language_info": {
   "codemirror_mode": {
    "name": "ipython",
    "version": 3
   },
   "file_extension": ".py",
   "mimetype": "text/x-python",
   "name": "python",
   "nbconvert_exporter": "python",
   "pygments_lexer": "ipython3",
   "version": "3.13.3"
  }
 },
 "nbformat": 4,
 "nbformat_minor": 5
}
