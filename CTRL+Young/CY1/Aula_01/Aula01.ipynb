{
  "cells": [
    {
      "cell_type": "code",
      "execution_count": null,
      "metadata": {
        "id": "Qp0Wa4gNeNf5"
      },
      "outputs": [],
      "source": [
        "# Essa variavel soma todas as idades da turma\n",
        "idades = 18 + 13 + 20"
      ]
    },
    {
      "cell_type": "code",
      "execution_count": null,
      "metadata": {
        "id": "wY2JbirDfa5V"
      },
      "outputs": [],
      "source": [
        "ola = \"Olá, Mundo!\""
      ]
    },
    {
      "cell_type": "code",
      "execution_count": null,
      "metadata": {
        "colab": {
          "base_uri": "https://localhost:8080/"
        },
        "id": "J9ZXT_aWfdBd",
        "outputId": "246ee084-f439-46bf-e0cc-f1975dcac604"
      },
      "outputs": [
        {
          "name": "stdout",
          "output_type": "stream",
          "text": [
            "51\n"
          ]
        }
      ],
      "source": [
        "print(idades)"
      ]
    },
    {
      "cell_type": "code",
      "execution_count": null,
      "metadata": {
        "colab": {
          "base_uri": "https://localhost:8080/"
        },
        "id": "yOfQJk-xg18N",
        "outputId": "50d1df6f-3b16-4f3a-e4bd-a6bd255cc70b"
      },
      "outputs": [
        {
          "name": "stdout",
          "output_type": "stream",
          "text": [
            "Olá, tudo bem?\n"
          ]
        }
      ],
      "source": [
        "print(\"Olá, tudo bem?\")"
      ]
    },
    {
      "cell_type": "code",
      "execution_count": null,
      "metadata": {
        "id": "Yd7AoxEumYEl"
      },
      "outputs": [],
      "source": [
        "musica = \"In the End\""
      ]
    },
    {
      "cell_type": "code",
      "execution_count": null,
      "metadata": {
        "colab": {
          "base_uri": "https://localhost:8080/"
        },
        "id": "6SipVXpptKrG",
        "outputId": "a95bff73-5ce8-466a-cf2d-8db711b79f61"
      },
      "outputs": [
        {
          "name": "stdout",
          "output_type": "stream",
          "text": [
            "In the End\n"
          ]
        }
      ],
      "source": [
        "print(musica)"
      ]
    },
    {
      "cell_type": "code",
      "execution_count": null,
      "metadata": {
        "colab": {
          "base_uri": "https://localhost:8080/"
        },
        "id": "Im1I0YXVumRG",
        "outputId": "6c078ceb-6835-4dad-8a9c-0b484f190268"
      },
      "outputs": [
        {
          "data": {
            "text/plain": [
              "60"
            ]
          },
          "execution_count": 31,
          "metadata": {},
          "output_type": "execute_result"
        }
      ],
      "source": [
        "(2 + 10) * (10 - 5)"
      ]
    },
    {
      "cell_type": "code",
      "execution_count": null,
      "metadata": {
        "id": "G9l--ktkxZXP"
      },
      "outputs": [],
      "source": [
        "numero = 10"
      ]
    },
    {
      "cell_type": "code",
      "execution_count": null,
      "metadata": {
        "colab": {
          "base_uri": "https://localhost:8080/"
        },
        "id": "cS463rqfyGcf",
        "outputId": "63121409-6826-4fb0-f359-c9f1c869d335"
      },
      "outputs": [
        {
          "data": {
            "text/plain": [
              "20"
            ]
          },
          "execution_count": 39,
          "metadata": {},
          "output_type": "execute_result"
        }
      ],
      "source": [
        "numero + numero"
      ]
    },
    {
      "cell_type": "code",
      "execution_count": null,
      "metadata": {
        "id": "wAvDX8UOyKlP"
      },
      "outputs": [],
      "source": [
        "numero = numero + numero"
      ]
    },
    {
      "cell_type": "code",
      "execution_count": null,
      "metadata": {
        "colab": {
          "base_uri": "https://localhost:8080/"
        },
        "id": "1mLMVEjvyP4v",
        "outputId": "6f33621b-98d2-4416-fe59-faf079675368"
      },
      "outputs": [
        {
          "name": "stdout",
          "output_type": "stream",
          "text": [
            "20\n"
          ]
        }
      ],
      "source": [
        "print(numero)"
      ]
    }
  ],
  "metadata": {
    "colab": {
      "provenance": []
    },
    "kernelspec": {
      "display_name": "Python 3",
      "name": "python3"
    },
    "language_info": {
      "name": "python"
    }
  },
  "nbformat": 4,
  "nbformat_minor": 0
}
