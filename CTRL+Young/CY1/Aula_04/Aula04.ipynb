{
 "cells": [
  {
   "cell_type": "markdown",
   "id": "06146439",
   "metadata": {},
   "source": [
    "### Operadores de comparação"
   ]
  },
  {
   "cell_type": "code",
   "execution_count": 5,
   "id": "30368719",
   "metadata": {},
   "outputs": [
    {
     "data": {
      "text/plain": [
       "True"
      ]
     },
     "execution_count": 5,
     "metadata": {},
     "output_type": "execute_result"
    }
   ],
   "source": [
    "len(\"Pão\") != len(\"Presunto\")"
   ]
  },
  {
   "cell_type": "code",
   "execution_count": 6,
   "id": "bed5950d",
   "metadata": {},
   "outputs": [
    {
     "data": {
      "text/plain": [
       "True"
      ]
     },
     "execution_count": 6,
     "metadata": {},
     "output_type": "execute_result"
    }
   ],
   "source": [
    "1 < 2 < 3"
   ]
  },
  {
   "cell_type": "code",
   "execution_count": 9,
   "id": "c1770eb1",
   "metadata": {},
   "outputs": [
    {
     "data": {
      "text/plain": [
       "True"
      ]
     },
     "execution_count": 9,
     "metadata": {},
     "output_type": "execute_result"
    }
   ],
   "source": [
    "1 > 3 or 2 < 3"
   ]
  },
  {
   "cell_type": "markdown",
   "id": "119086c4",
   "metadata": {},
   "source": [
    "### Condicionais"
   ]
  },
  {
   "cell_type": "code",
   "execution_count": null,
   "id": "2e7b445d",
   "metadata": {},
   "outputs": [
    {
     "name": "stdout",
     "output_type": "stream",
     "text": [
      "Em recuperação!\n"
     ]
    }
   ],
   "source": [
    "nota = 5\n",
    "# Condição 1 (Nota maior que 6)\n",
    "if nota >= 6:\n",
    "    print(\"aprovado\")\n",
    "\n",
    "# Condição 2 (Nem maior que 6, nem menor que 5)\n",
    "elif nota >= 5:\n",
    "    print(\"Em recuperação!\")\n",
    "\n",
    "# Padrão \n",
    "else:\n",
    "    print(\"R E P R O V A D O\")"
   ]
  },
  {
   "cell_type": "code",
   "execution_count": 25,
   "id": "07a95557",
   "metadata": {},
   "outputs": [
    {
     "data": {
      "text/plain": [
       "False"
      ]
     },
     "execution_count": 25,
     "metadata": {},
     "output_type": "execute_result"
    }
   ],
   "source": [
    "A = \"Aoao\"\n",
    "B = \"Fabricio\"\n",
    "\n",
    "A > B"
   ]
  },
  {
   "cell_type": "code",
   "execution_count": null,
   "id": "9083b50b",
   "metadata": {},
   "outputs": [],
   "source": []
  }
 ],
 "metadata": {
  "kernelspec": {
   "display_name": "Python 3",
   "language": "python",
   "name": "python3"
  },
  "language_info": {
   "codemirror_mode": {
    "name": "ipython",
    "version": 3
   },
   "file_extension": ".py",
   "mimetype": "text/x-python",
   "name": "python",
   "nbconvert_exporter": "python",
   "pygments_lexer": "ipython3",
   "version": "3.13.5"
  }
 },
 "nbformat": 4,
 "nbformat_minor": 5
}
