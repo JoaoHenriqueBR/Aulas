{
 "cells": [
  {
   "cell_type": "markdown",
   "id": "f895b5c2",
   "metadata": {},
   "source": [
    "### Revisão\n",
    "\n",
    "Exemplo de Variáveis"
   ]
  },
  {
   "cell_type": "code",
   "execution_count": 3,
   "id": "60b88279",
   "metadata": {},
   "outputs": [
    {
     "data": {
      "text/plain": [
       "'João Henrique Alves Ferreira'"
      ]
     },
     "execution_count": 3,
     "metadata": {},
     "output_type": "execute_result"
    }
   ],
   "source": [
    "nome = \"João Henrique Alves Ferreira\"\n",
    "nome"
   ]
  },
  {
   "cell_type": "markdown",
   "id": "4c6ecc3a",
   "metadata": {},
   "source": [
    ".split()"
   ]
  },
  {
   "cell_type": "code",
   "execution_count": 4,
   "id": "3891d270",
   "metadata": {},
   "outputs": [
    {
     "data": {
      "text/plain": [
       "['João', 'Henrique', 'Alves', 'Ferreira']"
      ]
     },
     "execution_count": 4,
     "metadata": {},
     "output_type": "execute_result"
    }
   ],
   "source": [
    "nome.split()"
   ]
  },
  {
   "cell_type": "markdown",
   "id": "f543bc3c",
   "metadata": {},
   "source": [
    "### Listas"
   ]
  },
  {
   "cell_type": "code",
   "execution_count": null,
   "id": "a6dd6483",
   "metadata": {},
   "outputs": [
    {
     "name": "stdout",
     "output_type": "stream",
     "text": [
      "['João', 'Pedro', 'Fabricio', 'Matheus', 'Roberto', 'Ana', 'Paula']\n"
     ]
    }
   ],
   "source": [
    "convidados = [\"João\", \"Pedro\", \"Fabricio\", \"Matheus\", \"Roberto\", \"Ana\", \"Paula\", \"Seu zé\"]\n",
    "print(convidados)"
   ]
  },
  {
   "cell_type": "markdown",
   "id": "6e21bfa1",
   "metadata": {},
   "source": [
    "Posição do item na lista"
   ]
  },
  {
   "cell_type": "code",
   "execution_count": 8,
   "id": "02ba697d",
   "metadata": {},
   "outputs": [
    {
     "data": {
      "text/plain": [
       "'Fabricio'"
      ]
     },
     "execution_count": 8,
     "metadata": {},
     "output_type": "execute_result"
    }
   ],
   "source": [
    "convidados[2]"
   ]
  },
  {
   "cell_type": "markdown",
   "id": "65476334",
   "metadata": {},
   "source": [
    "Posição inversa (último item)"
   ]
  },
  {
   "cell_type": "code",
   "execution_count": 10,
   "id": "2fed973c",
   "metadata": {},
   "outputs": [
    {
     "name": "stdout",
     "output_type": "stream",
     "text": [
      "['João', 'Pedro', 'Fabricio', 'Matheus', 'Roberto', 'Ana', 'Breno']\n"
     ]
    }
   ],
   "source": [
    "convidados[-1] = \"Breno\"\n",
    "print(convidados)"
   ]
  },
  {
   "cell_type": "markdown",
   "id": "7b4652d0",
   "metadata": {},
   "source": [
    "#### Acrescentando itens"
   ]
  },
  {
   "cell_type": "code",
   "execution_count": 11,
   "id": "b444bbec",
   "metadata": {},
   "outputs": [],
   "source": [
    "convidados.append(input('Quem vai pro final da fila?'))"
   ]
  },
  {
   "cell_type": "code",
   "execution_count": 17,
   "id": "f542de1e",
   "metadata": {},
   "outputs": [],
   "source": [
    "convidados.append('Antonio')"
   ]
  },
  {
   "cell_type": "code",
   "execution_count": 18,
   "id": "8e099f86",
   "metadata": {},
   "outputs": [
    {
     "name": "stdout",
     "output_type": "stream",
     "text": [
      "['João', 'Pedro', 'Fabricio', 'Matheus', 'Roberto', 'Ana', 'Breno', 'Jasmin', 'seu romário', 'seu zé', 'Antonio']\n"
     ]
    }
   ],
   "source": [
    "print(convidados)"
   ]
  },
  {
   "cell_type": "markdown",
   "id": "694f732f",
   "metadata": {},
   "source": [
    "Remover item sem deixar registro"
   ]
  },
  {
   "cell_type": "code",
   "execution_count": 19,
   "id": "2535238b",
   "metadata": {},
   "outputs": [],
   "source": [
    "del convidados[7]"
   ]
  },
  {
   "cell_type": "code",
   "execution_count": 20,
   "id": "47da9625",
   "metadata": {},
   "outputs": [
    {
     "name": "stdout",
     "output_type": "stream",
     "text": [
      "['João', 'Pedro', 'Fabricio', 'Matheus', 'Roberto', 'Ana', 'Breno', 'seu romário', 'seu zé', 'Antonio']\n"
     ]
    }
   ],
   "source": [
    "print(convidados)"
   ]
  },
  {
   "cell_type": "markdown",
   "id": "f33112c7",
   "metadata": {},
   "source": [
    "Remover e retornar item removido"
   ]
  },
  {
   "cell_type": "code",
   "execution_count": null,
   "id": "1d6d88e4",
   "metadata": {},
   "outputs": [],
   "source": [
    "removerConvidado = convidados.pop()"
   ]
  },
  {
   "cell_type": "markdown",
   "id": "a0b23c12",
   "metadata": {},
   "source": [
    "Remover por valor"
   ]
  },
  {
   "cell_type": "code",
   "execution_count": null,
   "id": "85b71eb8",
   "metadata": {},
   "outputs": [],
   "source": [
    "removerConvidado = convidados.remove('Matheus')"
   ]
  },
  {
   "cell_type": "code",
   "execution_count": 29,
   "id": "056c6b03",
   "metadata": {},
   "outputs": [
    {
     "name": "stdout",
     "output_type": "stream",
     "text": [
      "['João', 'Pedro', 'Roberto', 'Ana', 'Breno', 'seu romário', 'seu zé']\n"
     ]
    }
   ],
   "source": [
    "print(convidados)"
   ]
  },
  {
   "cell_type": "markdown",
   "id": "3ae75f6b",
   "metadata": {},
   "source": [
    "#### Organizando items\n",
    "\n",
    "- **sort()**: Ordem Alfabética/Númerica (Decrescente/Crescente usando o reverse)"
   ]
  },
  {
   "cell_type": "code",
   "execution_count": 33,
   "id": "529df1c4",
   "metadata": {},
   "outputs": [
    {
     "name": "stdout",
     "output_type": "stream",
     "text": [
      "['seu zé', 'seu romário', 'Roberto', 'Pedro', 'João', 'Breno', 'Ana']\n"
     ]
    }
   ],
   "source": [
    "convidados.sort(reverse=True)\n",
    "print(convidados)"
   ]
  },
  {
   "cell_type": "markdown",
   "id": "4dcc5511",
   "metadata": {},
   "source": [
    "- **sorted()**: Mostra a lista organizada sem alterar-la"
   ]
  },
  {
   "cell_type": "code",
   "execution_count": 34,
   "id": "a5fc5c2f",
   "metadata": {},
   "outputs": [
    {
     "name": "stdout",
     "output_type": "stream",
     "text": [
      "['Ana', 'Breno', 'João', 'Pedro', 'Roberto', 'seu romário', 'seu zé']\n"
     ]
    }
   ],
   "source": [
    "print(sorted(convidados))"
   ]
  },
  {
   "cell_type": "code",
   "execution_count": 35,
   "id": "9abce29a",
   "metadata": {},
   "outputs": [
    {
     "name": "stdout",
     "output_type": "stream",
     "text": [
      "['seu zé', 'seu romário', 'Roberto', 'Pedro', 'João', 'Breno', 'Ana']\n"
     ]
    }
   ],
   "source": [
    "print(convidados)"
   ]
  },
  {
   "cell_type": "code",
   "execution_count": 36,
   "id": "395aab6f",
   "metadata": {},
   "outputs": [
    {
     "name": "stdout",
     "output_type": "stream",
     "text": [
      "[0, 1, 5, 6, 2, 8, 10, 3]\n"
     ]
    }
   ],
   "source": [
    "numeros = [0, 1, 5, 6, 2, 8, 10, 3]\n",
    "\n",
    "print(numeros)"
   ]
  },
  {
   "cell_type": "code",
   "execution_count": 37,
   "id": "22c47048",
   "metadata": {},
   "outputs": [
    {
     "data": {
      "text/plain": [
       "[0, 1, 2, 3, 5, 6, 8, 10]"
      ]
     },
     "execution_count": 37,
     "metadata": {},
     "output_type": "execute_result"
    }
   ],
   "source": [
    "sorted(numeros)"
   ]
  },
  {
   "cell_type": "markdown",
   "id": "5369e76e",
   "metadata": {},
   "source": [
    "Outros métodos (len, min, max e fatiamento)"
   ]
  },
  {
   "cell_type": "code",
   "execution_count": 40,
   "id": "a10f4523",
   "metadata": {},
   "outputs": [
    {
     "data": {
      "text/plain": [
       "7"
      ]
     },
     "execution_count": 40,
     "metadata": {},
     "output_type": "execute_result"
    }
   ],
   "source": [
    "len(convidados)"
   ]
  },
  {
   "cell_type": "code",
   "execution_count": 45,
   "id": "f32b8295",
   "metadata": {},
   "outputs": [
    {
     "name": "stdout",
     "output_type": "stream",
     "text": [
      "['Ana', 'Breno', 'João', 'Pedro', 'Roberto', 'seu romário', 'seu zé']\n"
     ]
    }
   ],
   "source": [
    "convidados.reverse()\n",
    "print(convidados)"
   ]
  },
  {
   "cell_type": "code",
   "execution_count": 46,
   "id": "dda397b2",
   "metadata": {},
   "outputs": [
    {
     "data": {
      "text/plain": [
       "0"
      ]
     },
     "execution_count": 46,
     "metadata": {},
     "output_type": "execute_result"
    }
   ],
   "source": [
    "min(numeros)"
   ]
  },
  {
   "cell_type": "code",
   "execution_count": 47,
   "id": "3e50fa14",
   "metadata": {},
   "outputs": [
    {
     "data": {
      "text/plain": [
       "10"
      ]
     },
     "execution_count": 47,
     "metadata": {},
     "output_type": "execute_result"
    }
   ],
   "source": [
    "max(numeros)"
   ]
  },
  {
   "cell_type": "code",
   "execution_count": 49,
   "id": "16f16b9f",
   "metadata": {},
   "outputs": [
    {
     "name": "stdout",
     "output_type": "stream",
     "text": [
      "[1, 2, 3, 4, 5, 6, 7, 8, 9, 10]\n"
     ]
    }
   ],
   "source": [
    "numeros = list(range(1, 11))\n",
    "print(numeros)"
   ]
  },
  {
   "cell_type": "code",
   "execution_count": 50,
   "id": "bc878462",
   "metadata": {},
   "outputs": [
    {
     "name": "stdout",
     "output_type": "stream",
     "text": [
      "[3, 4, 5, 6, 7]\n"
     ]
    }
   ],
   "source": [
    "print(numeros[2:7])"
   ]
  },
  {
   "cell_type": "markdown",
   "id": "38c4cedc",
   "metadata": {},
   "source": [
    "### Matrizes"
   ]
  },
  {
   "cell_type": "code",
   "execution_count": null,
   "id": "8579f30a",
   "metadata": {},
   "outputs": [],
   "source": [
    "timesXpessoas = [['Corinthians', 'Flamengo', 'São Paulo'],['Fabricio', 'Gabigol', 'João']]"
   ]
  },
  {
   "cell_type": "markdown",
   "id": "65127c36",
   "metadata": {},
   "source": [
    "Posição na Matriz [Lista][Item]\n",
    "\n",
    "- Por exemplo: Na primeira lista[0], no terceiro item[2] se encontra **'São Paulo'**"
   ]
  },
  {
   "cell_type": "code",
   "execution_count": 55,
   "id": "5e553f60",
   "metadata": {},
   "outputs": [
    {
     "name": "stdout",
     "output_type": "stream",
     "text": [
      "São Paulo\n"
     ]
    }
   ],
   "source": [
    "print(timesXpessoas[0][2])"
   ]
  },
  {
   "cell_type": "code",
   "execution_count": 54,
   "id": "8564a899",
   "metadata": {},
   "outputs": [
    {
     "name": "stdout",
     "output_type": "stream",
     "text": [
      "João\n"
     ]
    }
   ],
   "source": [
    "print(timesXpessoas[1][2])"
   ]
  }
 ],
 "metadata": {
  "kernelspec": {
   "display_name": "Python 3",
   "language": "python",
   "name": "python3"
  },
  "language_info": {
   "codemirror_mode": {
    "name": "ipython",
    "version": 3
   },
   "file_extension": ".py",
   "mimetype": "text/x-python",
   "name": "python",
   "nbconvert_exporter": "python",
   "pygments_lexer": "ipython3",
   "version": "3.13.5"
  }
 },
 "nbformat": 4,
 "nbformat_minor": 5
}
