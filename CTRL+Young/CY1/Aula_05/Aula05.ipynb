{
 "cells": [
  {
   "cell_type": "markdown",
   "id": "ee1916d7",
   "metadata": {},
   "source": [
    "# Estruturas de Repetição\n",
    "\n",
    "## For\n",
    "\n",
    "A estrutura for atua como um iterador em Python, isto é, um objeto que percorre itens que estão em uma sequência e retorna os dados desses itens de maneira sucessiva, um elemento de cada vez.\n",
    "\n",
    "```\n",
    "for item in objeto:\n",
    "    códigos que vão repetir\n",
    "```"
   ]
  },
  {
   "cell_type": "code",
   "execution_count": 8,
   "id": "6612a404",
   "metadata": {},
   "outputs": [
    {
     "name": "stdout",
     "output_type": "stream",
     "text": [
      "1\n",
      "2\n",
      "3\n",
      "4\n",
      "5\n",
      "6\n",
      "7\n",
      "8\n",
      "9\n",
      "10\n"
     ]
    }
   ],
   "source": [
    "numeros = [1,2,3,4,5,6,7,8,9,10]\n",
    "\n",
    "for num in numeros:\n",
    "    print(num)"
   ]
  },
  {
   "cell_type": "markdown",
   "id": "20c115b4",
   "metadata": {},
   "source": [
    "**Dica:** para gerar de maneira ainda mais rápida uma lista de números, você pode utilizar a função `range()`, informando o número *inicial* e o número *final*."
   ]
  },
  {
   "cell_type": "code",
   "execution_count": 9,
   "id": "a29424f2",
   "metadata": {},
   "outputs": [
    {
     "name": "stdout",
     "output_type": "stream",
     "text": [
      "1\n",
      "2\n",
      "3\n",
      "4\n",
      "5\n",
      "6\n",
      "7\n",
      "8\n",
      "9\n",
      "10\n"
     ]
    }
   ],
   "source": [
    "for num in range(1,11):\n",
    "    print(num)"
   ]
  },
  {
   "cell_type": "markdown",
   "id": "133a840a",
   "metadata": {},
   "source": [
    "O nome do item pode então ser referenciado dentro do seu loop para, por exemplo, utilizar-se do if para verificar se há números pares em uma lista."
   ]
  },
  {
   "cell_type": "code",
   "execution_count": 10,
   "id": "8b7ac0b1",
   "metadata": {},
   "outputs": [
    {
     "name": "stdout",
     "output_type": "stream",
     "text": [
      "2\n",
      "4\n",
      "6\n",
      "8\n",
      "10\n"
     ]
    }
   ],
   "source": [
    "# exibindo os números pares até 10. Tente adicionar o comando else para exibir os ímpares.\n",
    "for num in range(1,11):\n",
    "    if(num % 2 == 0):\n",
    "        print(num)"
   ]
  },
  {
   "cell_type": "markdown",
   "id": "354581bc",
   "metadata": {},
   "source": [
    "Nos exemplos anteriores, você viu loops com listas. Mas e as strings?"
   ]
  },
  {
   "cell_type": "code",
   "execution_count": 11,
   "id": "2544b42b",
   "metadata": {},
   "outputs": [
    {
     "name": "stdout",
     "output_type": "stream",
     "text": [
      "C\n",
      "t\n",
      "r\n",
      "l\n",
      "+\n",
      "P\n",
      "l\n",
      "a\n",
      "y\n"
     ]
    }
   ],
   "source": [
    "# iterando sobre um string\n",
    "for letra in \"Ctrl+Play\":\n",
    "    print(letra)"
   ]
  },
  {
   "cell_type": "markdown",
   "id": "c3094512",
   "metadata": {},
   "source": [
    "### DESAFIOS"
   ]
  },
  {
   "cell_type": "markdown",
   "id": "aafd2a0e",
   "metadata": {},
   "source": [
    "- FOGO DE ARTIFICIO"
   ]
  },
  {
   "cell_type": "code",
   "execution_count": 18,
   "id": "2c50fb20",
   "metadata": {},
   "outputs": [
    {
     "name": "stdout",
     "output_type": "stream",
     "text": [
      "10\n",
      "9\n",
      "8\n",
      "7\n",
      "6\n",
      "5\n",
      "4\n",
      "3\n",
      "2\n",
      "1\n",
      "KABUUUMM!!!\n"
     ]
    }
   ],
   "source": [
    "from time import sleep\n",
    "\n",
    "for c in range(10, 0, -1):\n",
    "    print(c)\n",
    "    sleep(1)\n",
    "\n",
    "print('KABUUUMM!!!')"
   ]
  },
  {
   "cell_type": "markdown",
   "id": "58f8239a",
   "metadata": {},
   "source": [
    "- GERADOR DE TABUADAS"
   ]
  },
  {
   "cell_type": "code",
   "execution_count": 1,
   "id": "7021a66e",
   "metadata": {},
   "outputs": [
    {
     "name": "stdout",
     "output_type": "stream",
     "text": [
      "3  x  1  =  3\n",
      "3  x  2  =  6\n",
      "3  x  3  =  9\n",
      "3  x  4  =  12\n",
      "3  x  5  =  15\n",
      "3  x  6  =  18\n",
      "3  x  7  =  21\n",
      "3  x  8  =  24\n",
      "3  x  9  =  27\n",
      "3  x  10  =  30\n"
     ]
    }
   ],
   "source": [
    "n = int(input('Número da tabuada: '))\n",
    "\n",
    "for c in range(1, 11):\n",
    "    print(n, ' x ', c, ' = ', n*c)"
   ]
  },
  {
   "cell_type": "markdown",
   "id": "f71db53c",
   "metadata": {},
   "source": [
    "## WHILE\n",
    "\n",
    "Ela executa repetidamente um trecho de código enquanto uma condição for verdadeira.\n",
    "\n",
    "```\n",
    "while condicao:\n",
    "    codigo que vai se repetir\n",
    "```"
   ]
  },
  {
   "cell_type": "markdown",
   "id": "429c0db9",
   "metadata": {},
   "source": [
    "### Exercicio \n",
    "\n",
    "- Adivinha v2"
   ]
  },
  {
   "cell_type": "code",
   "execution_count": 3,
   "id": "04efc85e",
   "metadata": {},
   "outputs": [
    {
     "name": "stdout",
     "output_type": "stream",
     "text": [
      "~=~~=~~=~~=~~=~~=~~=~~=~~=~~=~\n",
      "JOGO DA ADIVINHA\n",
      "Irei escolher um número de 0 a 10!\n",
      "~=~~=~~=~~=~~=~~=~~=~~=~~=~~=~\n",
      "Não choras, você errou!\n",
      "Tente um número menor!\n",
      "VOCÊ VENCEU!\n",
      "Foram  2  tentativa(s), parabéns!\n"
     ]
    }
   ],
   "source": [
    "from random import randint\n",
    "\n",
    "print('~=~'*10)\n",
    "print('JOGO DA ADIVINHA')\n",
    "print('Irei escolher um número de 0 a 10!')\n",
    "print('~=~'*10)\n",
    "\n",
    "computador = randint(0, 10)\n",
    "acertou = False\n",
    "palpites = 0\n",
    "\n",
    "while not acertou:\n",
    "    usuario = int(input('Tente adivinhar: '))\n",
    "    palpites += 1\n",
    "\n",
    "\n",
    "    if computador == usuario:\n",
    "        print('VOCÊ VENCEU!')\n",
    "        acertou = True\n",
    "    else:\n",
    "        print('Não choras, você errou!')\n",
    "        if usuario < computador:\n",
    "            print('Tente um número maior!')\n",
    "        else:\n",
    "            print('Tente um número menor!')\n",
    "\n",
    "print('Foram ', palpites, ' tentativa(s), parabéns!')"
   ]
  }
 ],
 "metadata": {
  "kernelspec": {
   "display_name": "Python 3",
   "language": "python",
   "name": "python3"
  },
  "language_info": {
   "codemirror_mode": {
    "name": "ipython",
    "version": 3
   },
   "file_extension": ".py",
   "mimetype": "text/x-python",
   "name": "python",
   "nbconvert_exporter": "python",
   "pygments_lexer": "ipython3",
   "version": "3.13.5"
  }
 },
 "nbformat": 4,
 "nbformat_minor": 5
}
