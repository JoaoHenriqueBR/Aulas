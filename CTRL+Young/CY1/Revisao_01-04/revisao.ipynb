{
 "cells": [
  {
   "cell_type": "markdown",
   "id": "9f0b30f7",
   "metadata": {},
   "source": [
    "### Variáveis x CONSTANTES\n",
    "\n",
    "- Constantes: Em MAIUSCULO, não pode ser alterada depois.\n",
    "- Variáveis: Contém letras minusculas, pode ser alterada depois. "
   ]
  },
  {
   "cell_type": "code",
   "execution_count": null,
   "id": "206c3547",
   "metadata": {},
   "outputs": [],
   "source": [
    "PI = 3.14\n",
    "paes = 10"
   ]
  },
  {
   "cell_type": "markdown",
   "id": "702868c2",
   "metadata": {},
   "source": [
    "#### Soma (a + b)"
   ]
  },
  {
   "cell_type": "code",
   "execution_count": null,
   "id": "2ec1d557",
   "metadata": {},
   "outputs": [
    {
     "name": "stdout",
     "output_type": "stream",
     "text": [
      "Resultado:  30\n"
     ]
    }
   ],
   "source": [
    "a = 10\n",
    "b = 20\n",
    "\n",
    "print(\"Resultado: \", a+b)"
   ]
  },
  {
   "cell_type": "markdown",
   "id": "73efcf0a",
   "metadata": {},
   "source": [
    "### Listas\n",
    "\n",
    "- Composto de vários itens dentro de um [], separado por virgulas."
   ]
  },
  {
   "cell_type": "code",
   "execution_count": 1,
   "id": "996e0f1f",
   "metadata": {},
   "outputs": [
    {
     "name": "stdout",
     "output_type": "stream",
     "text": [
      "Pão\n"
     ]
    }
   ],
   "source": [
    "lista = [\"Pão\", \"Sonho\", \"Brigadeiro\", \"Rosquinha de Chocolate\", \"Pão de Queijo\", \"Café\"]\n",
    "\n",
    "print(lista[0])"
   ]
  },
  {
   "cell_type": "markdown",
   "id": "21d16a81",
   "metadata": {},
   "source": [
    "- Tamanho da lista"
   ]
  },
  {
   "cell_type": "code",
   "execution_count": 12,
   "id": "bcacaaa3",
   "metadata": {},
   "outputs": [
    {
     "data": {
      "text/plain": [
       "6"
      ]
     },
     "execution_count": 12,
     "metadata": {},
     "output_type": "execute_result"
    }
   ],
   "source": [
    "len(lista)"
   ]
  },
  {
   "cell_type": "markdown",
   "id": "b3873f10",
   "metadata": {},
   "source": [
    "### Condicionais\n",
    "\n",
    "Com base em uma condição, faz uma ação:\n",
    "\n",
    "- Se Magnus tiver mais pontos que Hikaru, ele é o melhor do mundo\n",
    "- Senão:\n",
    "    - É mentira, pois Magnus sempre >>> que Hikaru"
   ]
  },
  {
   "cell_type": "code",
   "execution_count": null,
   "id": "1ed640d9",
   "metadata": {},
   "outputs": [
    {
     "name": "stdout",
     "output_type": "stream",
     "text": [
      "MAGNUS MELHOR JOGADOR DO MUNDO\n"
     ]
    }
   ],
   "source": [
    "magnus = 3003890\n",
    "hikaru = 437893710\n",
    "\n",
    "if magnus > hikaru:\n",
    "    print(\"MAGNUS MELHOR JOGADOR DO MUNDO\")\n",
    "else:\n",
    "    print(\"Isto é mentira\")"
   ]
  },
  {
   "cell_type": "markdown",
   "id": "9e30f56a",
   "metadata": {},
   "source": [
    "#### Comparação\n",
    "\n",
    "> Tipos diferentes resultam valores diferentes (mesmo se tiver o mesmo \"valor\")\n",
    "\n",
    "- `==` -> Igual\n",
    "- `!=` -> Diferente\n",
    "- `>`  -> Maior\n",
    "- `<`  -> Menor"
   ]
  },
  {
   "cell_type": "code",
   "execution_count": 13,
   "id": "be49b300",
   "metadata": {},
   "outputs": [
    {
     "data": {
      "text/plain": [
       "False"
      ]
     },
     "execution_count": 13,
     "metadata": {},
     "output_type": "execute_result"
    }
   ],
   "source": [
    "\"10\" == 10"
   ]
  },
  {
   "cell_type": "markdown",
   "id": "a9f8fb80",
   "metadata": {},
   "source": [
    "- Input: Recebe valor de um usuário"
   ]
  },
  {
   "cell_type": "code",
   "execution_count": 23,
   "id": "996c172f",
   "metadata": {},
   "outputs": [],
   "source": [
    "numero = input(\"Digite uma coisa ae\")"
   ]
  },
  {
   "cell_type": "markdown",
   "id": "12dbce64",
   "metadata": {},
   "source": [
    "- int(n): Transforma o tipo do valor em Número Inteiro\n",
    "- float(n): Transforma o tipo do valor em Número Decimal\n",
    "- str(n): Transforma o tipo do valor em String"
   ]
  },
  {
   "cell_type": "code",
   "execution_count": 24,
   "id": "dd00bea8",
   "metadata": {},
   "outputs": [
    {
     "data": {
      "text/plain": [
       "True"
      ]
     },
     "execution_count": 24,
     "metadata": {},
     "output_type": "execute_result"
    }
   ],
   "source": [
    "numero = int(numero)\n",
    "numero == 10"
   ]
  },
  {
   "cell_type": "code",
   "execution_count": 25,
   "id": "dd4dfcc1",
   "metadata": {},
   "outputs": [
    {
     "name": "stdout",
     "output_type": "stream",
     "text": [
      "10.0\n"
     ]
    }
   ],
   "source": [
    "numero = float(numero)\n",
    "print(numero)"
   ]
  }
 ],
 "metadata": {
  "kernelspec": {
   "display_name": "Python 3",
   "language": "python",
   "name": "python3"
  },
  "language_info": {
   "codemirror_mode": {
    "name": "ipython",
    "version": 3
   },
   "file_extension": ".py",
   "mimetype": "text/x-python",
   "name": "python",
   "nbconvert_exporter": "python",
   "pygments_lexer": "ipython3",
   "version": "3.13.5"
  }
 },
 "nbformat": 4,
 "nbformat_minor": 5
}
