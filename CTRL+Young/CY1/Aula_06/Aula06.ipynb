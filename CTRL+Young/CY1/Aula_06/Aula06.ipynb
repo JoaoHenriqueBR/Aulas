{
 "cells": [
  {
   "cell_type": "markdown",
   "id": "c61d1310",
   "metadata": {},
   "source": [
    "# Aula 06 - Outros tipos de dados (Dicionários, Tuplas, Sets e Booleanos)\n",
    "\n",
    "## Tuplas\n",
    "\n",
    "- Diferentes de listas, tuplas são imutáveis;\n",
    "- Seu conteúdo pode ser acessado por métodos iguais aos da lista (`len()`, `index()`, `count()`);\n",
    "- Seu conteúdo pode ser fatiado em `tupla[inico, fim, passo]`"
   ]
  },
  {
   "cell_type": "code",
   "execution_count": null,
   "id": "bee1029b",
   "metadata": {},
   "outputs": [
    {
     "name": "stdout",
     "output_type": "stream",
     "text": [
      "('três', 4.5, False)\n"
     ]
    }
   ],
   "source": [
    "# Você também pode variar os tipos de dados\n",
    "t = ('um','um', 2, 'três', True, 4.5, 'cinco', False, 'um', 3.14)\n",
    "\n",
    "print(t[2:7:2])"
   ]
  },
  {
   "cell_type": "markdown",
   "id": "b4742b9d",
   "metadata": {},
   "source": [
    "- Tamanho de uma tupla"
   ]
  },
  {
   "cell_type": "code",
   "execution_count": null,
   "id": "6556a2d9",
   "metadata": {},
   "outputs": [
    {
     "data": {
      "text/plain": [
       "7"
      ]
     },
     "execution_count": 8,
     "metadata": {},
     "output_type": "execute_result"
    }
   ],
   "source": [
    "len(t)"
   ]
  },
  {
   "cell_type": "markdown",
   "id": "efb8286d",
   "metadata": {},
   "source": [
    "- Procura a posição de um item, ex: 'cinco' está na pos. 5 da tupla acima."
   ]
  },
  {
   "cell_type": "code",
   "execution_count": 12,
   "id": "af27b3f0",
   "metadata": {},
   "outputs": [
    {
     "data": {
      "text/plain": [
       "5"
      ]
     },
     "execution_count": 12,
     "metadata": {},
     "output_type": "execute_result"
    }
   ],
   "source": [
    "t.index('cinco')"
   ]
  },
  {
   "cell_type": "markdown",
   "id": "320d05d1",
   "metadata": {},
   "source": [
    "> *E se houvesse um jeito de filtrar as listas para evitar números repetidos?*"
   ]
  },
  {
   "cell_type": "code",
   "execution_count": 4,
   "id": "8ff6d3c9",
   "metadata": {},
   "outputs": [
    {
     "name": "stdout",
     "output_type": "stream",
     "text": [
      "(1, 2, 3, 4, 1, 1, 2, 4, 6, 7, 8)\n"
     ]
    }
   ],
   "source": [
    "# Tuplas com números repetidos\n",
    "numeros = (1, 2, 3, 4, 1, 1, 2, 4, 6, 7, 8)\n",
    "print(numeros)"
   ]
  },
  {
   "cell_type": "markdown",
   "id": "9addf139",
   "metadata": {},
   "source": [
    "## Sets (conjuntos)\n",
    "\n",
    "- Cria um conjunto que não aceita números repetidos"
   ]
  },
  {
   "cell_type": "code",
   "execution_count": 6,
   "id": "b3c9ba98",
   "metadata": {},
   "outputs": [
    {
     "name": "stdout",
     "output_type": "stream",
     "text": [
      "{5, 7}\n"
     ]
    }
   ],
   "source": [
    "x = set()\n",
    "x.add(7)\n",
    "x.add(5)\n",
    "print(x)"
   ]
  },
  {
   "cell_type": "markdown",
   "id": "bd7e1a67",
   "metadata": {},
   "source": [
    "- Como seria a lista (numeros) de cima no nosso conjunto (set)?"
   ]
  },
  {
   "cell_type": "code",
   "execution_count": 7,
   "id": "4df6c202",
   "metadata": {},
   "outputs": [
    {
     "name": "stdout",
     "output_type": "stream",
     "text": [
      "{1, 2, 3, 4, 5, 6, 7, 8}\n"
     ]
    }
   ],
   "source": [
    "# adiciono os itens da lista(numeros) ao conjunto x\n",
    "for n in numeros:\n",
    "    x.add(n)\n",
    "\n",
    "print(x)"
   ]
  },
  {
   "cell_type": "markdown",
   "id": "fbc5497d",
   "metadata": {},
   "source": [
    "Como podemos ver, nenhum número é repetido."
   ]
  },
  {
   "cell_type": "markdown",
   "id": "89a0ef0a",
   "metadata": {},
   "source": [
    "## Dicionários"
   ]
  },
  {
   "cell_type": "markdown",
   "id": "01556cc9",
   "metadata": {},
   "source": [
    "- Guarda dados em pares, com uma chave (sorvete) e um valor (2);\n",
    "- Ex: `dicionario = {chave:valor}`;\n",
    "- Cada item é dividido por virgulas.\n"
   ]
  },
  {
   "cell_type": "code",
   "execution_count": 17,
   "id": "cb4e1cfa",
   "metadata": {},
   "outputs": [
    {
     "name": "stdout",
     "output_type": "stream",
     "text": [
      "{'sorvete': 2, 'brigadeiro': 1, 'bombom': 0.5, 'palma da banana': 1}\n"
     ]
    }
   ],
   "source": [
    "doces = {'sorvete': 2,\n",
    "          'brigadeiro' : 1,\n",
    "            'bombom':0.5,\n",
    "            'palma da banana':1}\n",
    "\n",
    "print(doces)"
   ]
  },
  {
   "cell_type": "markdown",
   "id": "7c04447e",
   "metadata": {},
   "source": [
    "- As chaves (dog, cat) podem ser chamadas para revelar o valor.\n",
    "- Substitui as posições [0, 1, 2]"
   ]
  },
  {
   "cell_type": "code",
   "execution_count": 9,
   "id": "9d2f0b31",
   "metadata": {},
   "outputs": [
    {
     "name": "stdout",
     "output_type": "stream",
     "text": [
      "cachorro\n"
     ]
    }
   ],
   "source": [
    "traduzirIngPT = {'dog':'cachorro',\n",
    "                 'cat':'gato'}\n",
    "\n",
    "print(traduzirIngPT['dog'])"
   ]
  },
  {
   "cell_type": "markdown",
   "id": "c2aa0089",
   "metadata": {},
   "source": [
    "- **Desafio:** Sistema de Aprovação/Reprovação."
   ]
  },
  {
   "cell_type": "code",
   "execution_count": 26,
   "id": "b5ca113f",
   "metadata": {},
   "outputs": [
    {
     "name": "stdout",
     "output_type": "stream",
     "text": [
      "{'nome': 'Ronaldo', 'media': 6, 'situação': 'Recuperação'}\n"
     ]
    }
   ],
   "source": [
    "aluno = dict()\n",
    "\n",
    "aluno['nome'] = \"Ronaldo\"\n",
    "aluno['media'] = 6\n",
    "\n",
    "if aluno['media'] >= 7:\n",
    "    aluno['situação'] = 'Aprovado'\n",
    "elif aluno['media'] < 5:\n",
    "    aluno['situação'] = 'Reprovado'\n",
    "else:\n",
    "    aluno['situação'] = 'Recuperação'\n",
    "\n",
    "print(aluno)"
   ]
  }
 ],
 "metadata": {
  "kernelspec": {
   "display_name": "Python 3",
   "language": "python",
   "name": "python3"
  },
  "language_info": {
   "codemirror_mode": {
    "name": "ipython",
    "version": 3
   },
   "file_extension": ".py",
   "mimetype": "text/x-python",
   "name": "python",
   "nbconvert_exporter": "python",
   "pygments_lexer": "ipython3",
   "version": "3.13.5"
  }
 },
 "nbformat": 4,
 "nbformat_minor": 5
}
