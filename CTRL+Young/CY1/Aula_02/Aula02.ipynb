{
 "cells": [
  {
   "cell_type": "markdown",
   "id": "99a2ba3d",
   "metadata": {},
   "source": [
    "## Criando uma string\n",
    "\n",
    "Para criar uma string em Python, você vai precisar usar aspas simples ou aspas duplas."
   ]
  },
  {
   "cell_type": "code",
   "execution_count": 2,
   "id": "ba16c9ef",
   "metadata": {},
   "outputs": [],
   "source": [
    "# Uma palavra\n",
    "string1 = 'Oi!'"
   ]
  },
  {
   "cell_type": "code",
   "execution_count": 3,
   "id": "ccf2249d",
   "metadata": {},
   "outputs": [],
   "source": [
    "# Uma frase\n",
    "string2 = 'Oi, tudo bem?'"
   ]
  },
  {
   "cell_type": "code",
   "execution_count": 4,
   "id": "3f9907fc",
   "metadata": {},
   "outputs": [],
   "source": [
    "# com aspas duplas\n",
    "string3 = \"Frase com aspas duplas\""
   ]
  },
  {
   "cell_type": "markdown",
   "id": "19bbe41a",
   "metadata": {},
   "source": [
    "### Imprimindo uma string\n",
    "\n",
    "- Com variável"
   ]
  },
  {
   "cell_type": "code",
   "execution_count": 5,
   "id": "424cfc60",
   "metadata": {},
   "outputs": [
    {
     "name": "stdout",
     "output_type": "stream",
     "text": [
      "Oi!\n",
      "Oi, tudo bem?\n",
      "Frase com aspas duplas\n"
     ]
    }
   ],
   "source": [
    "print(string1)\n",
    "print(string2)\n",
    "print(string3)"
   ]
  },
  {
   "cell_type": "markdown",
   "id": "ee8da20b",
   "metadata": {},
   "source": [
    "- Direto na função `print()`"
   ]
  },
  {
   "cell_type": "code",
   "execution_count": 6,
   "id": "112e2c0f",
   "metadata": {},
   "outputs": [
    {
     "name": "stdout",
     "output_type": "stream",
     "text": [
      "teste\n"
     ]
    }
   ],
   "source": [
    "print('teste')"
   ]
  },
  {
   "cell_type": "markdown",
   "id": "d3c69f5b",
   "metadata": {},
   "source": [
    "- Direto no Notebook (Exclusivo: Jupyter Notebook)"
   ]
  },
  {
   "cell_type": "code",
   "execution_count": 7,
   "id": "f629f2e9",
   "metadata": {},
   "outputs": [
    {
     "data": {
      "text/plain": [
       "'teste'"
      ]
     },
     "execution_count": 7,
     "metadata": {},
     "output_type": "execute_result"
    }
   ],
   "source": [
    "\"teste\""
   ]
  },
  {
   "cell_type": "code",
   "execution_count": 8,
   "id": "78d2f3c8",
   "metadata": {},
   "outputs": [],
   "source": [
    "nome = \"João Henrique Alves Ferreira\""
   ]
  },
  {
   "cell_type": "code",
   "execution_count": 9,
   "id": "7579046d",
   "metadata": {},
   "outputs": [
    {
     "data": {
      "text/plain": [
       "28"
      ]
     },
     "execution_count": 9,
     "metadata": {},
     "output_type": "execute_result"
    }
   ],
   "source": [
    "len(nome)"
   ]
  },
  {
   "cell_type": "code",
   "execution_count": 28,
   "id": "4ad75820",
   "metadata": {},
   "outputs": [
    {
     "name": "stdout",
     "output_type": "stream",
     "text": [
      " Alves\n"
     ]
    }
   ],
   "source": [
    "print(nome[13:19])"
   ]
  },
  {
   "cell_type": "code",
   "execution_count": 30,
   "id": "5db129b6",
   "metadata": {},
   "outputs": [
    {
     "name": "stdout",
     "output_type": "stream",
     "text": [
      "Joeielseea\n"
     ]
    }
   ],
   "source": [
    "print(nome[::3])"
   ]
  },
  {
   "cell_type": "code",
   "execution_count": null,
   "id": "03513107",
   "metadata": {},
   "outputs": [
    {
     "name": "stdout",
     "output_type": "stream",
     "text": [
      "7\n"
     ]
    }
   ],
   "source": [
    "email = 'fulano@gmail.com'\n",
    "print(email.find('@'))"
   ]
  },
  {
   "cell_type": "code",
   "execution_count": 33,
   "id": "624729bc",
   "metadata": {},
   "outputs": [
    {
     "data": {
      "text/plain": [
       "2"
      ]
     },
     "execution_count": 33,
     "metadata": {},
     "output_type": "execute_result"
    }
   ],
   "source": [
    "email.count('o')"
   ]
  },
  {
   "cell_type": "code",
   "execution_count": 35,
   "id": "d274b020",
   "metadata": {},
   "outputs": [
    {
     "name": "stdout",
     "output_type": "stream",
     "text": [
      "JoãoFerreira\n",
      "FerreiraFerreiraFerreiraFerreiraFerreiraFerreiraFerreira\n"
     ]
    }
   ],
   "source": [
    "nome = \"João\"\n",
    "sobrenome = \"Ferreira\"\n",
    "\n",
    "print(nome + sobrenome)\n",
    "print(sobrenome*7)"
   ]
  },
  {
   "cell_type": "code",
   "execution_count": null,
   "id": "568adf67",
   "metadata": {},
   "outputs": [
    {
     "name": "stdout",
     "output_type": "stream",
     "text": [
      "Você tem 2 irmãos\n"
     ]
    }
   ],
   "source": [
    "numeroDeIrmaos = 2\n",
    "\n",
    "print(\"Você tem \" + str(numeroDeIrmaos) + \" irmãos\")"
   ]
  },
  {
   "cell_type": "code",
   "execution_count": null,
   "id": "dc4a6dbf",
   "metadata": {},
   "outputs": [
    {
     "name": "stdout",
     "output_type": "stream",
     "text": [
      "JOÃO\n"
     ]
    }
   ],
   "source": [
    "# Deixa em maiusculo\n",
    "print(nome.upper())"
   ]
  },
  {
   "cell_type": "code",
   "execution_count": 41,
   "id": "3b3aa855",
   "metadata": {},
   "outputs": [
    {
     "name": "stdout",
     "output_type": "stream",
     "text": [
      "joão\n"
     ]
    }
   ],
   "source": [
    "print(nome.lower())"
   ]
  },
  {
   "cell_type": "code",
   "execution_count": 53,
   "id": "7e59582b",
   "metadata": {},
   "outputs": [
    {
     "name": "stdout",
     "output_type": "stream",
     "text": [
      "de\n"
     ]
    }
   ],
   "source": [
    "# Divide uma frase em várias partes\n",
    "escola = \"Ctrl+Play - Escola de Programação e Robótica\"\n",
    "cadaPalavra = escola.split()\n",
    "\n",
    "print(cadaPalavra[3])"
   ]
  },
  {
   "cell_type": "code",
   "execution_count": 55,
   "id": "1e31aa63",
   "metadata": {},
   "outputs": [
    {
     "name": "stdout",
     "output_type": "stream",
     "text": [
      "Olá \n",
      "João\n"
     ]
    }
   ],
   "source": [
    "nome = input(\"Digite seu nome: \")\n",
    "\n",
    "print(\"Olá \\n\" + nome)"
   ]
  }
 ],
 "metadata": {
  "kernelspec": {
   "display_name": "Python 3",
   "language": "python",
   "name": "python3"
  },
  "language_info": {
   "codemirror_mode": {
    "name": "ipython",
    "version": 3
   },
   "file_extension": ".py",
   "mimetype": "text/x-python",
   "name": "python",
   "nbconvert_exporter": "python",
   "pygments_lexer": "ipython3",
   "version": "3.13.5"
  }
 },
 "nbformat": 4,
 "nbformat_minor": 5
}
